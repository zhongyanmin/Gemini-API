{
  "nbformat": 4,
  "nbformat_minor": 0,
  "metadata": {
    "colab": {
      "provenance": [],
      "authorship_tag": "ABX9TyN/EOJFOoYmyVJE/kL+l7hn",
      "include_colab_link": true
    },
    "kernelspec": {
      "name": "python3",
      "display_name": "Python 3"
    },
    "language_info": {
      "name": "python"
    }
  },
  "cells": [
    {
      "cell_type": "markdown",
      "metadata": {
        "id": "view-in-github",
        "colab_type": "text"
      },
      "source": [
        "<a href=\"https://colab.research.google.com/github/zhongyanmin/Gemini-API/blob/main/google_search.ipynb\" target=\"_parent\"><img src=\"https://colab.research.google.com/assets/colab-badge.svg\" alt=\"Open In Colab\"/></a>"
      ]
    },
    {
      "cell_type": "code",
      "execution_count": null,
      "metadata": {
        "id": "oi-lxR7TIqAi"
      },
      "outputs": [],
      "source": [
        "from google import genai\n",
        "from google.genai import types"
      ]
    },
    {
      "cell_type": "code",
      "source": [
        "# %pip install -U -q 'google-genai>=1.0.0'"
      ],
      "metadata": {
        "id": "Fl6Am8G5OYyg"
      },
      "execution_count": null,
      "outputs": []
    },
    {
      "cell_type": "code",
      "source": [
        "from google.colab import userdata\n",
        "\n",
        "GEMINI_API_KEY = userdata.get('GOOGLE_API_KEY')"
      ],
      "metadata": {
        "id": "pUJjcUcwOhyr"
      },
      "execution_count": null,
      "outputs": []
    },
    {
      "cell_type": "code",
      "source": [
        "client = genai.Client(api_key=GEMINI_API_KEY)\n",
        "\n",
        "# Define the grounding tool\n",
        "grounding_tool = types.Tool(\n",
        "    google_search=types.GoogleSearch()\n",
        ")\n",
        "\n",
        "# Configure generation settings\n",
        "config = types.GenerateContentConfig(\n",
        "    tools=[grounding_tool]\n",
        ")\n",
        "\n",
        "# Make the request\n",
        "response = client.models.generate_content(\n",
        "    model=\"gemini-2.5-flash\",\n",
        "    contents=\"Who won the wtt usa smash 2025?\",\n",
        "    config=config,\n",
        ")\n",
        "\n",
        "# Print the grounded response\n",
        "print(response.text)"
      ],
      "metadata": {
        "colab": {
          "base_uri": "https://localhost:8080/"
        },
        "id": "gGZM4QTtN5iR",
        "outputId": "c90efc45-ccc1-439d-e1dd-d92a3fe5c522"
      },
      "execution_count": 11,
      "outputs": [
        {
          "output_type": "stream",
          "name": "stdout",
          "text": [
            "The WTT USA Smash 2025, held in Las Vegas, Nevada, concluded on July 14, 2025, with champions crowned in various categories.\n",
            "\n",
            "The winners are as follows:\n",
            "*   **Men's Singles:** Wang Chuqin defeated Tomokazu Harimoto 4-0.\n",
            "*   **Women's Singles:** Zhu Yuling claimed the title by beating Chen Yi 4-2.\n",
            "*   **Men's Doubles:** An Jaehyun and Lim Jonghoon were victorious over Alexis Lebrun and Felix Lebrun with a 3-1 score.\n",
            "*   **Mixed Doubles:** Lin Shidong and Kuai Man secured their third consecutive WTT Grand Smash title as a duo, defeating Lim Jonghoon and Shin Yubin 3-0.\n",
            "*   **Women's Doubles:** Kuai Man and Wang Yidi won the title with a 3-2 final score.\n"
          ]
        }
      ]
    },
    {
      "cell_type": "code",
      "metadata": {
        "id": "9a3fc6c6"
      },
      "source": [
        "# Accessing the text content\n",
        "# text_content = response.candidates[0].content.parts[0].text\n",
        "# print(\"Text Content:\", text_content)\n",
        "\n",
        "# Accessing web search queries\n",
        "# web_search_queries = response.candidates[0].grounding_metadata.web_search_queries\n",
        "# print(\"Web Search Queries:\", web_search_queries)\n",
        "\n",
        "# Accessing grounding chunks\n",
        "# grounding_chunks = response.candidates[0].grounding_metadata.grounding_chunks\n",
        "# print(\"Grounding Chunks:\", grounding_chunks)\n",
        "\n",
        "# Accessing grounding supports\n",
        "# grounding_supports = response.candidates[0].grounding_metadata.grounding_supports\n",
        "# print(\"Grounding Supports:\", grounding_supports)"
      ],
      "execution_count": null,
      "outputs": []
    },
    {
      "cell_type": "code",
      "source": [
        "def add_citations(response):\n",
        "    text = response.text\n",
        "    supports = response.candidates[0].grounding_metadata.grounding_supports\n",
        "    chunks = response.candidates[0].grounding_metadata.grounding_chunks\n",
        "\n",
        "    # Sort supports by end_index in descending order to avoid shifting issues when inserting.\n",
        "    sorted_supports = sorted(supports, key=lambda s: s.segment.end_index, reverse=True)\n",
        "\n",
        "    for support in sorted_supports:\n",
        "        end_index = support.segment.end_index\n",
        "        if support.grounding_chunk_indices:\n",
        "            # Create citation string like [1](link1)[2](link2)\n",
        "            citation_links = []\n",
        "            for i in support.grounding_chunk_indices:\n",
        "                if i < len(chunks):\n",
        "                    uri = chunks[i].web.uri\n",
        "                    citation_links.append(f\"[{i + 1}]({uri})\")\n",
        "\n",
        "            citation_string = \"\\n\".join(citation_links)\n",
        "            text = text[:end_index]  + \"\\n\" + citation_string + text[end_index:]\n",
        "\n",
        "    return text\n",
        "\n",
        "# Assuming response with grounding metadata\n",
        "text_with_citations = add_citations(response)\n",
        "print(text_with_citations)"
      ],
      "metadata": {
        "colab": {
          "base_uri": "https://localhost:8080/"
        },
        "id": "vXIh5TSm5Pw4",
        "outputId": "96a9ddf0-2212-499d-9ef9-a4ecf1f6e58d"
      },
      "execution_count": 12,
      "outputs": [
        {
          "output_type": "stream",
          "name": "stdout",
          "text": [
            "The WTT USA Smash 2025, held in Las Vegas, Nevada, concluded on July 14, 2025, with champions crowned in various categories\n",
            "[1](https://vertexaisearch.cloud.google.com/grounding-api-redirect/AUZIYQGdUXKh3tmyjRypoTBJ7XfVIRqhcapBRmxKWKbCBsxKq6PjdjUZsBre5Quca01OXoQZSqE-u73zbWqGz8wqWc4EW59K-sfkPM9sTxWGIBzYNo0EeA2pm-Ug6hy8vwqGhu22grXruwCTGniLW6VnMt0R-B7hC7iThrVhP49DqKgQwD_Vow==)\n",
            "[2](https://vertexaisearch.cloud.google.com/grounding-api-redirect/AUZIYQHWJToPQKOuL5r-Sv94VyqX388nXY5fsuuiIcXEGS_3K4AxU2wObCgCyGmqZU4PkaNDTIWMJpFQH1W5YKrYI_MvU9HHzeWM0NaKFbRtf2AYMEGge9HbYo6aDns5fIjVvxuRdKxeNxJZHC27wtTMSwUtOF4=)\n",
            "[3](https://vertexaisearch.cloud.google.com/grounding-api-redirect/AUZIYQGOANAs-5wGfNEiCQtOzNy7I4euUScHp18yz5pfMzsviue94mrJZISh6PxNLvqhkc0azAhHQECVjG4HYo8AGkNJrUuYpAC7i4odpf5GuvVjc6tr9QOTWa8GKyE2em32KV8nFp3JSxH1cxp4Bm8yWVxOuid0HLCSBK2mnQAYZLZdHpu_J2yzdIYt0sj0GNH79mMizlZxRPdc0rgrieEucTzHtZVjR09uELDffg71KTbl0-ngZz2qmK4=).\n",
            "\n",
            "The winners are as follows:\n",
            "*   **Men's Singles:** Wang Chuqin defeated Tomokazu Harimoto 4-0\n",
            "[1](https://vertexaisearch.cloud.google.com/grounding-api-redirect/AUZIYQGdUXKh3tmyjRypoTBJ7XfVIRqhcapBRmxKWKbCBsxKq6PjdjUZsBre5Quca01OXoQZSqE-u73zbWqGz8wqWc4EW59K-sfkPM9sTxWGIBzYNo0EeA2pm-Ug6hy8vwqGhu22grXruwCTGniLW6VnMt0R-B7hC7iThrVhP49DqKgQwD_Vow==)\n",
            "[4](https://vertexaisearch.cloud.google.com/grounding-api-redirect/AUZIYQGHwN1VThMD-Z03mUj7RwyPYbcyR_iYX09VomtC7o2I1H_YfdHGqxSmToHqbskU4tU9U7JkGQfAOAmvLd-8YJ4CVo8888JyPD_mntoxV8Lk4f6A9VoeAnERXDxtItavkXO2Z8fvdMHjBOg5cZgcrbDU1n0=)\n",
            "[2](https://vertexaisearch.cloud.google.com/grounding-api-redirect/AUZIYQHWJToPQKOuL5r-Sv94VyqX388nXY5fsuuiIcXEGS_3K4AxU2wObCgCyGmqZU4PkaNDTIWMJpFQH1W5YKrYI_MvU9HHzeWM0NaKFbRtf2AYMEGge9HbYo6aDns5fIjVvxuRdKxeNxJZHC27wtTMSwUtOF4=)\n",
            "[5](https://vertexaisearch.cloud.google.com/grounding-api-redirect/AUZIYQFS_pvt2EyhvtNWFX0BqD7k-RY7qCib59Q-prsYWW5fo_2mezrKGqGKFBJ0psO-j7tNtem2gvGMNHekCuthmeD5jF-gXbkeptJO-uJqPlkiVZ5rl43c_MsA1XLl82fVlvo57jHnGm4=).\n",
            "*   **Women's Singles:** Zhu Yuling claimed the title by beating Chen Yi 4-2\n",
            "[1](https://vertexaisearch.cloud.google.com/grounding-api-redirect/AUZIYQGdUXKh3tmyjRypoTBJ7XfVIRqhcapBRmxKWKbCBsxKq6PjdjUZsBre5Quca01OXoQZSqE-u73zbWqGz8wqWc4EW59K-sfkPM9sTxWGIBzYNo0EeA2pm-Ug6hy8vwqGhu22grXruwCTGniLW6VnMt0R-B7hC7iThrVhP49DqKgQwD_Vow==)\n",
            "[4](https://vertexaisearch.cloud.google.com/grounding-api-redirect/AUZIYQGHwN1VThMD-Z03mUj7RwyPYbcyR_iYX09VomtC7o2I1H_YfdHGqxSmToHqbskU4tU9U7JkGQfAOAmvLd-8YJ4CVo8888JyPD_mntoxV8Lk4f6A9VoeAnERXDxtItavkXO2Z8fvdMHjBOg5cZgcrbDU1n0=)\n",
            "[3](https://vertexaisearch.cloud.google.com/grounding-api-redirect/AUZIYQGOANAs-5wGfNEiCQtOzNy7I4euUScHp18yz5pfMzsviue94mrJZISh6PxNLvqhkc0azAhHQECVjG4HYo8AGkNJrUuYpAC7i4odpf5GuvVjc6tr9QOTWa8GKyE2em32KV8nFp3JSxH1cxp4Bm8yWVxOuid0HLCSBK2mnQAYZLZdHpu_J2yzdIYt0sj0GNH79mMizlZxRPdc0rgrieEucTzHtZVjR09uELDffg71KTbl0-ngZz2qmK4=)\n",
            "[5](https://vertexaisearch.cloud.google.com/grounding-api-redirect/AUZIYQFS_pvt2EyhvtNWFX0BqD7k-RY7qCib59Q-prsYWW5fo_2mezrKGqGKFBJ0psO-j7tNtem2gvGMNHekCuthmeD5jF-gXbkeptJO-uJqPlkiVZ5rl43c_MsA1XLl82fVlvo57jHnGm4=).\n",
            "*   **Men's Doubles:** An Jaehyun and Lim Jonghoon were victorious over Alexis Lebrun and Felix Lebrun with a 3-1 score\n",
            "[1](https://vertexaisearch.cloud.google.com/grounding-api-redirect/AUZIYQGdUXKh3tmyjRypoTBJ7XfVIRqhcapBRmxKWKbCBsxKq6PjdjUZsBre5Quca01OXoQZSqE-u73zbWqGz8wqWc4EW59K-sfkPM9sTxWGIBzYNo0EeA2pm-Ug6hy8vwqGhu22grXruwCTGniLW6VnMt0R-B7hC7iThrVhP49DqKgQwD_Vow==)\n",
            "[4](https://vertexaisearch.cloud.google.com/grounding-api-redirect/AUZIYQGHwN1VThMD-Z03mUj7RwyPYbcyR_iYX09VomtC7o2I1H_YfdHGqxSmToHqbskU4tU9U7JkGQfAOAmvLd-8YJ4CVo8888JyPD_mntoxV8Lk4f6A9VoeAnERXDxtItavkXO2Z8fvdMHjBOg5cZgcrbDU1n0=).\n",
            "*   **Mixed Doubles:** Lin Shidong and Kuai Man secured their third consecutive WTT Grand Smash title as a duo, defeating Lim Jonghoon and Shin Yubin 3-0\n",
            "[4](https://vertexaisearch.cloud.google.com/grounding-api-redirect/AUZIYQGHwN1VThMD-Z03mUj7RwyPYbcyR_iYX09VomtC7o2I1H_YfdHGqxSmToHqbskU4tU9U7JkGQfAOAmvLd-8YJ4CVo8888JyPD_mntoxV8Lk4f6A9VoeAnERXDxtItavkXO2Z8fvdMHjBOg5cZgcrbDU1n0=).\n",
            "*   **Women's Doubles:** Kuai Man and Wang Yidi won the title with a 3-2 final score\n",
            "[1](https://vertexaisearch.cloud.google.com/grounding-api-redirect/AUZIYQGdUXKh3tmyjRypoTBJ7XfVIRqhcapBRmxKWKbCBsxKq6PjdjUZsBre5Quca01OXoQZSqE-u73zbWqGz8wqWc4EW59K-sfkPM9sTxWGIBzYNo0EeA2pm-Ug6hy8vwqGhu22grXruwCTGniLW6VnMt0R-B7hC7iThrVhP49DqKgQwD_Vow==).\n"
          ]
        }
      ]
    }
  ]
}