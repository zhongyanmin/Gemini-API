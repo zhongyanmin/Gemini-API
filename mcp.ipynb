{
  "nbformat": 4,
  "nbformat_minor": 0,
  "metadata": {
    "colab": {
      "provenance": [],
      "authorship_tag": "ABX9TyNt/ym3nOamHT3vPLbOMRLZ",
      "include_colab_link": true
    },
    "kernelspec": {
      "name": "python3",
      "display_name": "Python 3"
    },
    "language_info": {
      "name": "python"
    }
  },
  "cells": [
    {
      "cell_type": "markdown",
      "metadata": {
        "id": "view-in-github",
        "colab_type": "text"
      },
      "source": [
        "<a href=\"https://colab.research.google.com/github/zhongyanmin/Gemini-API/blob/main/mcp.ipynb\" target=\"_parent\"><img src=\"https://colab.research.google.com/assets/colab-badge.svg\" alt=\"Open In Colab\"/></a>"
      ]
    },
    {
      "cell_type": "code",
      "source": [
        "# !pip install mcp\n",
        "# !pip install aiohttp"
      ],
      "metadata": {
        "id": "gGZM4QTtN5iR"
      },
      "execution_count": 67,
      "outputs": []
    },
    {
      "cell_type": "code",
      "source": [
        "import os\n",
        "import asyncio\n",
        "import json\n",
        "from datetime import datetime\n",
        "from google import genai\n",
        "from google.genai import types\n",
        "from mcp import ClientSession, StdioServerParameters\n",
        "from mcp.client.stdio import stdio_client"
      ],
      "metadata": {
        "id": "hZBtemN-hpIu"
      },
      "execution_count": 61,
      "outputs": []
    },
    {
      "cell_type": "code",
      "source": [
        "from google.colab import userdata\n",
        "\n",
        "GEMINI_API_KEY = userdata.get('GOOGLE_API_KEY')\n",
        "SERP_API_KEY = userdata.get('SERP_API_KEY')"
      ],
      "metadata": {
        "id": "59TTRumghoTm"
      },
      "execution_count": 62,
      "outputs": []
    },
    {
      "cell_type": "code",
      "metadata": {
        "id": "9a3fc6c6"
      },
      "source": [
        "client = genai.Client(api_key=GEMINI_API_KEY)\n",
        "\n",
        "# Create server parameters for stdio connection\n",
        "server_params = StdioServerParameters(\n",
        "    command=\"mcp-flight-search\",\n",
        "    args=[\"--connection_type\", \"stdio\"],\n",
        "    env={\"SERP_API_KEY\": (SERP_API_KEY)},\n",
        ")"
      ],
      "execution_count": 63,
      "outputs": []
    },
    {
      "cell_type": "code",
      "source": [
        "async def run():\n",
        "    # Remove debug prints\n",
        "    async with stdio_client(server_params) as (read, write):\n",
        "        async with ClientSession(read, write) as session:\n",
        "            prompt = f\"Find Flights from Tokyo to LA 2025-08-15\"\n",
        "            await session.initialize()\n",
        "            # Remove debug prints\n",
        "\n",
        "            mcp_tools = await session.list_tools()\n",
        "            # Remove debug prints\n",
        "            tools = [\n",
        "                types.Tool(\n",
        "                    function_declarations=[\n",
        "                        {\n",
        "                            \"name\": tool.name,\n",
        "                            \"description\": tool.description,\n",
        "                            \"parameters\": {\n",
        "                                k: v\n",
        "                                for k, v in tool.inputSchema.items()\n",
        "                                if k not in [\"additionalProperties\", \"$schema\"]\n",
        "                            },\n",
        "                        }\n",
        "                    ]\n",
        "                )\n",
        "                for tool in mcp_tools.tools\n",
        "            ]\n",
        "            # Remove debug prints\n",
        "\n",
        "            response = client.models.generate_content(\n",
        "                model=\"gemini-2.5-flash\",\n",
        "                contents=prompt,\n",
        "                config=types.GenerateContentConfig(\n",
        "                    temperature=0,\n",
        "                    tools=tools,\n",
        "                ),\n",
        "            )\n",
        "\n",
        "            # Remove raw response print\n",
        "            if response.candidates[0].content.parts[0].function_call:\n",
        "                function_call = response.candidates[0].content.parts[0].function_call\n",
        "\n",
        "                result = await session.call_tool(\n",
        "                    function_call.name, arguments=dict(function_call.args)\n",
        "                )\n",
        "\n",
        "                # Parse and print formatted JSON result\n",
        "                print(\"--- Formatted Result ---\") # Add header for clarity\n",
        "                try:\n",
        "                    flight_data = json.loads(result.content[0].text)\n",
        "                    print(json.dumps(flight_data, indent=2))\n",
        "                except json.JSONDecodeError:\n",
        "                    print(\"MCP server returned non-JSON response:\")\n",
        "                    print(result.content[0].text)\n",
        "                except (IndexError, AttributeError):\n",
        "                     print(\"Unexpected result structure from MCP server:\")\n",
        "                     print(result)\n",
        "            else:\n",
        "                print(\"No function call was generated by the model.\")\n",
        "                if response.text:\n",
        "                     print(\"Model response:\")\n",
        "                     print(response.text)"
      ],
      "metadata": {
        "id": "hOZaLd0rtmT2"
      },
      "execution_count": 64,
      "outputs": []
    },
    {
      "cell_type": "code",
      "source": [
        "# Revert main block\n",
        "asyncio.run(run())"
      ],
      "metadata": {
        "id": "E_wBqQnhtoan"
      },
      "execution_count": null,
      "outputs": []
    }
  ]
}