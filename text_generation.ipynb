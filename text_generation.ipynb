{
  "nbformat": 4,
  "nbformat_minor": 0,
  "metadata": {
    "colab": {
      "provenance": [],
      "authorship_tag": "ABX9TyPEmvtOmxWyskUnbn7C1Mxk",
      "include_colab_link": true
    },
    "kernelspec": {
      "name": "python3",
      "display_name": "Python 3"
    },
    "language_info": {
      "name": "python"
    }
  },
  "cells": [
    {
      "cell_type": "markdown",
      "metadata": {
        "id": "view-in-github",
        "colab_type": "text"
      },
      "source": [
        "<a href=\"https://colab.research.google.com/github/zhongyanmin/Gemini-API/blob/main/text_generation.ipynb\" target=\"_parent\"><img src=\"https://colab.research.google.com/assets/colab-badge.svg\" alt=\"Open In Colab\"/></a>"
      ]
    },
    {
      "cell_type": "code",
      "execution_count": 1,
      "metadata": {
        "id": "oi-lxR7TIqAi"
      },
      "outputs": [],
      "source": [
        "from google import genai\n",
        "from google.genai import types\n",
        "import httpx"
      ]
    },
    {
      "cell_type": "code",
      "source": [
        "# %pip install -U -q 'google-genai>=1.0.0'"
      ],
      "metadata": {
        "colab": {
          "base_uri": "https://localhost:8080/"
        },
        "id": "Fl6Am8G5OYyg",
        "outputId": "c79792a2-8e2f-44d5-9f34-556702bd9a6d"
      },
      "execution_count": null,
      "outputs": [
        {
          "output_type": "stream",
          "name": "stdout",
          "text": [
            "\u001b[?25l     \u001b[90m━━━━━━━━━━━━━━━━━━━━━━━━━━━━━━━━━━━━━━━━\u001b[0m \u001b[32m0.0/43.1 kB\u001b[0m \u001b[31m?\u001b[0m eta \u001b[36m-:--:--\u001b[0m\r\u001b[2K     \u001b[90m━━━━━━━━━━━━━━━━━━━━━━━━━━━━━━━━━━━━━━━━\u001b[0m \u001b[32m43.1/43.1 kB\u001b[0m \u001b[31m1.5 MB/s\u001b[0m eta \u001b[36m0:00:00\u001b[0m\n",
            "\u001b[?25h\u001b[?25l   \u001b[90m━━━━━━━━━━━━━━━━━━━━━━━━━━━━━━━━━━━━━━━━\u001b[0m \u001b[32m0.0/222.6 kB\u001b[0m \u001b[31m?\u001b[0m eta \u001b[36m-:--:--\u001b[0m\r\u001b[2K   \u001b[91m━━━━━━━━━━━━━━━━━━━━━━━━━━━━━━━━━━━━━━\u001b[0m\u001b[91m╸\u001b[0m\u001b[90m━\u001b[0m \u001b[32m215.0/222.6 kB\u001b[0m \u001b[31m9.4 MB/s\u001b[0m eta \u001b[36m0:00:01\u001b[0m\r\u001b[2K   \u001b[90m━━━━━━━━━━━━━━━━━━━━━━━━━━━━━━━━━━━━━━━━\u001b[0m \u001b[32m222.6/222.6 kB\u001b[0m \u001b[31m5.8 MB/s\u001b[0m eta \u001b[36m0:00:00\u001b[0m\n",
            "\u001b[?25h"
          ]
        }
      ]
    },
    {
      "cell_type": "code",
      "source": [
        "from google.colab import userdata\n",
        "\n",
        "GEMINI_API_KEY = userdata.get('GOOGLE_API_KEY')"
      ],
      "metadata": {
        "id": "pUJjcUcwOhyr"
      },
      "execution_count": 2,
      "outputs": []
    },
    {
      "cell_type": "code",
      "source": [
        "client = genai.Client(api_key=GEMINI_API_KEY)\n",
        "\n",
        "response = client.models.generate_content(\n",
        "    model=\"gemini-2.5-flash\",\n",
        "    contents=\"How does AI work?\",\n",
        "    config=types.GenerateContentConfig(\n",
        "        thinking_config=types.ThinkingConfig(thinking_budget=0), # Disables thinking\n",
        "        temperature=0.1\n",
        "    ),\n",
        ")\n",
        "print(response.text)"
      ],
      "metadata": {
        "colab": {
          "base_uri": "https://localhost:8080/"
        },
        "id": "gGZM4QTtN5iR",
        "outputId": "2d04579a-c0bf-4bdb-caef-54be2c030760"
      },
      "execution_count": 4,
      "outputs": [
        {
          "output_type": "stream",
          "name": "stdout",
          "text": [
            "That's a fantastic question, and the answer is both complex and surprisingly simple at its core. Let's break down how AI works, starting with the basics and moving into more advanced concepts.\n",
            "\n",
            "**The Core Idea: Learning from Data**\n",
            "\n",
            "At its heart, AI, especially the kind we hear about most (Machine Learning), is about **teaching computers to learn from data without being explicitly programmed for every single task.**\n",
            "\n",
            "Think of it like this:\n",
            "\n",
            "*   **Traditional Programming:** You write a rule like \"If the temperature is above 25 degrees, turn on the AC.\"\n",
            "*   **AI/Machine Learning:** You show the computer thousands of examples of temperatures and whether the AC was turned on or off. The computer then figures out the *pattern* or *rule* itself.\n",
            "\n",
            "**Key Components of How AI Works:**\n",
            "\n",
            "1.  **Data:** This is the fuel for AI. It can be anything:\n",
            "    *   Images (for recognizing objects)\n",
            "    *   Text (for understanding language)\n",
            "    *   Numbers (for predicting stock prices)\n",
            "    *   Audio (for speech recognition)\n",
            "    *   Videos (for analyzing movement)\n",
            "\n",
            "    The more high-quality, relevant data an AI has, the better it can learn.\n",
            "\n",
            "2.  **Algorithms:** These are the \"recipes\" or mathematical procedures that the AI uses to learn from the data. Different algorithms are suited for different types of problems. Some common ones include:\n",
            "    *   **Regression:** Predicting a continuous value (e.g., house price).\n",
            "    *   **Classification:** Categorizing data into groups (e.g., spam or not spam, cat or dog).\n",
            "    *   **Clustering:** Finding natural groupings within data (e.g., customer segments).\n",
            "\n",
            "3.  **Models:** Once an algorithm has \"learned\" from the data, it creates a \"model.\" This model is essentially the learned pattern, the set of rules, or the mathematical function that the AI can now use to make predictions or decisions on *new, unseen data*.\n",
            "\n",
            "    *   **Training Phase:** The algorithm processes the data to build the model.\n",
            "    *   **Inference/Prediction Phase:** The trained model is used to make predictions on new data.\n",
            "\n",
            "**A Simplified Analogy: Teaching a Child to Recognize a Cat**\n",
            "\n",
            "1.  **Data:** You show the child many pictures. \"This is a cat. This is also a cat. This is *not* a cat (it's a dog). This is *not* a cat (it's a bird).\" You point out features: \"See the pointy ears? The whiskers? The tail?\"\n",
            "2.  **Algorithm (Child's Brain):** The child's brain processes these examples, identifying common features and differences. It starts to form an internal \"rule\" or \"model\" of what a cat looks like.\n",
            "3.  **Model (Child's Internal Rule):** After enough examples, the child has a pretty good idea of what a cat is.\n",
            "4.  **Prediction:** You show the child a *new* picture they've never seen before. They look at it, apply their internal \"cat rule,\" and say, \"That's a cat!\" or \"That's not a cat!\"\n",
            "\n",
            "**How AI \"Learns\" (The Math Behind It):**\n",
            "\n",
            "While the analogy is helpful, the \"learning\" in AI is done through mathematical optimization.\n",
            "\n",
            "*   **Features:** The AI identifies relevant characteristics in the data (e.g., pixel values in an image, words in a sentence).\n",
            "*   **Weights & Biases:** In many AI models (especially neural networks), the \"learning\" involves adjusting numerical values called \"weights\" and \"biases.\" These values determine how much importance the model gives to different features when making a decision.\n",
            "*   **Loss Function:** During training, the AI makes predictions on the training data. It then compares its predictions to the *actual* correct answers. The \"loss function\" calculates how \"wrong\" the AI's predictions were.\n",
            "*   **Optimization (Gradient Descent):** The AI then uses an optimization algorithm (like Gradient Descent) to slightly adjust its weights and biases in a way that *reduces* the loss. It's like trying to find the bottom of a valley by taking small steps downhill. This process is repeated thousands or millions of times until the model's predictions are as accurate as possible.\n",
            "\n",
            "**Types of Machine Learning (The Main Branches of AI):**\n",
            "\n",
            "1.  **Supervised Learning:**\n",
            "    *   **Concept:** The AI learns from \"labeled\" data, meaning each piece of data has a corresponding correct answer.\n",
            "    *   **Examples:**\n",
            "        *   **Image Classification:** Showing images of cats and dogs, each labeled \"cat\" or \"dog.\"\n",
            "        *   **Spam Detection:** Emails labeled \"spam\" or \"not spam.\"\n",
            "        *   **Predicting House Prices:** Data includes house features (size, location) and their actual prices.\n",
            "\n",
            "2.  **Unsupervised Learning:**\n",
            "    *   **Concept:** The AI learns from \"unlabeled\" data, finding patterns or structures within the data on its own.\n",
            "    *   **Examples:**\n",
            "        *   **Clustering:** Grouping customers into segments based on their purchasing behavior without being told what the segments are beforehand.\n",
            "        *   **Anomaly Detection:** Identifying unusual patterns (e.g., fraudulent transactions).\n",
            "\n",
            "3.  **Reinforcement Learning:**\n",
            "    *   **Concept:** The AI learns by interacting with an environment, receiving \"rewards\" for good actions and \"penalties\" for bad ones. It's like training a pet.\n",
            "    *   **Examples:**\n",
            "        *   **Game Playing:** AlphaGo learning to play Go by trying moves and getting rewards for winning.\n",
            "        *   **Robotics:** A robot learning to walk by trial and error.\n",
            "\n",
            "**Deep Learning: A Powerful Subset of Machine Learning**\n",
            "\n",
            "Deep Learning is a specific type of Machine Learning that uses **Artificial Neural Networks (ANNs)** with many layers (hence \"deep\").\n",
            "\n",
            "*   **Inspired by the Brain:** ANNs are loosely inspired by the structure of the human brain, with interconnected \"neurons\" (nodes) organized in layers.\n",
            "*   **Feature Extraction:** One of the key advantages of deep learning is its ability to automatically learn complex features from raw data. For example, in image recognition, early layers might detect edges, middle layers might detect shapes, and later layers might combine these to recognize objects.\n",
            "*   **Massive Data & Computation:** Deep learning models often require vast amounts of data and significant computational power (GPUs are commonly used).\n",
            "*   **Applications:** Powering most of the recent breakthroughs in AI:\n",
            "    *   Image and speech recognition\n",
            "    *   Natural Language Processing (ChatGPT, Google Translate)\n",
            "    *   Self-driving cars\n",
            "\n",
            "**In Summary:**\n",
            "\n",
            "AI, particularly Machine Learning and Deep Learning, works by:\n",
            "\n",
            "1.  **Collecting and preparing vast amounts of data.**\n",
            "2.  **Using algorithms to learn patterns and relationships within that data.**\n",
            "3.  **Creating a \"model\" that encapsulates these learned patterns.**\n",
            "4.  **Using that model to make predictions, decisions, or generate new content on unseen data.**\n",
            "5.  **Continuously refining the model through feedback and more data.**\n",
            "\n",
            "It's a field that's constantly evolving, but the fundamental principle of learning from data remains at its core.\n"
          ]
        }
      ]
    }
  ]
}