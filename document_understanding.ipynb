{
  "nbformat": 4,
  "nbformat_minor": 0,
  "metadata": {
    "colab": {
      "provenance": [],
      "authorship_tag": "ABX9TyPcg1F7KFEDr7nNHqxhAnNi",
      "include_colab_link": true
    },
    "kernelspec": {
      "name": "python3",
      "display_name": "Python 3"
    },
    "language_info": {
      "name": "python"
    }
  },
  "cells": [
    {
      "cell_type": "markdown",
      "metadata": {
        "id": "view-in-github",
        "colab_type": "text"
      },
      "source": [
        "<a href=\"https://colab.research.google.com/github/zhongyanmin/Gemini-API/blob/main/document_understanding.ipynb\" target=\"_parent\"><img src=\"https://colab.research.google.com/assets/colab-badge.svg\" alt=\"Open In Colab\"/></a>"
      ]
    },
    {
      "cell_type": "code",
      "execution_count": 1,
      "metadata": {
        "id": "oi-lxR7TIqAi"
      },
      "outputs": [],
      "source": [
        "from google import genai\n",
        "from google.genai import types\n",
        "import httpx"
      ]
    },
    {
      "cell_type": "code",
      "source": [
        "%pip install -U -q 'google-genai>=1.0.0'"
      ],
      "metadata": {
        "colab": {
          "base_uri": "https://localhost:8080/"
        },
        "id": "Fl6Am8G5OYyg",
        "outputId": "c79792a2-8e2f-44d5-9f34-556702bd9a6d"
      },
      "execution_count": 3,
      "outputs": [
        {
          "output_type": "stream",
          "name": "stdout",
          "text": [
            "\u001b[?25l     \u001b[90m━━━━━━━━━━━━━━━━━━━━━━━━━━━━━━━━━━━━━━━━\u001b[0m \u001b[32m0.0/43.1 kB\u001b[0m \u001b[31m?\u001b[0m eta \u001b[36m-:--:--\u001b[0m\r\u001b[2K     \u001b[90m━━━━━━━━━━━━━━━━━━━━━━━━━━━━━━━━━━━━━━━━\u001b[0m \u001b[32m43.1/43.1 kB\u001b[0m \u001b[31m1.5 MB/s\u001b[0m eta \u001b[36m0:00:00\u001b[0m\n",
            "\u001b[?25h\u001b[?25l   \u001b[90m━━━━━━━━━━━━━━━━━━━━━━━━━━━━━━━━━━━━━━━━\u001b[0m \u001b[32m0.0/222.6 kB\u001b[0m \u001b[31m?\u001b[0m eta \u001b[36m-:--:--\u001b[0m\r\u001b[2K   \u001b[91m━━━━━━━━━━━━━━━━━━━━━━━━━━━━━━━━━━━━━━\u001b[0m\u001b[91m╸\u001b[0m\u001b[90m━\u001b[0m \u001b[32m215.0/222.6 kB\u001b[0m \u001b[31m9.4 MB/s\u001b[0m eta \u001b[36m0:00:01\u001b[0m\r\u001b[2K   \u001b[90m━━━━━━━━━━━━━━━━━━━━━━━━━━━━━━━━━━━━━━━━\u001b[0m \u001b[32m222.6/222.6 kB\u001b[0m \u001b[31m5.8 MB/s\u001b[0m eta \u001b[36m0:00:00\u001b[0m\n",
            "\u001b[?25h"
          ]
        }
      ]
    },
    {
      "cell_type": "code",
      "source": [
        "from google.colab import userdata\n",
        "\n",
        "GEMINI_API_KEY = userdata.get('GOOGLE_API_KEY')"
      ],
      "metadata": {
        "id": "pUJjcUcwOhyr"
      },
      "execution_count": 6,
      "outputs": []
    },
    {
      "cell_type": "code",
      "source": [
        "client = genai.Client(api_key=GEMINI_API_KEY)\n",
        "\n",
        "doc_url = \"https://discovery.ucl.ac.uk/id/eprint/10089234/1/343019_3_art_0_py4t4l_convrt.pdf\"\n",
        "\n",
        "# Retrieve and encode the PDF byte\n",
        "doc_data = httpx.get(doc_url).content\n",
        "\n",
        "prompt = \"Summarize this document\"\n",
        "response = client.models.generate_content(\n",
        "  model=\"gemini-2.5-flash\",\n",
        "  contents=[\n",
        "      types.Part.from_bytes(\n",
        "        data=doc_data,\n",
        "        mime_type='application/pdf',\n",
        "      ),\n",
        "      prompt])\n",
        "print(response.text)"
      ],
      "metadata": {
        "colab": {
          "base_uri": "https://localhost:8080/"
        },
        "id": "gGZM4QTtN5iR",
        "outputId": "33d52ef4-76bd-4a71-91f4-7916bc8ddc17"
      },
      "execution_count": 7,
      "outputs": [
        {
          "output_type": "stream",
          "name": "stdout",
          "text": [
            "This document introduces **AlphaFold**, a novel deep learning-based system that significantly advances protein structure prediction from amino acid sequences. This problem is fundamental to understanding protein function but is often difficult to solve experimentally.\n",
            "\n",
            "Historically, approaches have leveraged genetic information to infer residue contacts and then used methods like fragment assembly with statistical potentials and complex sampling. AlphaFold's key innovations are:\n",
            "\n",
            "1.  **Distance Prediction:** It trains a deep convolutional neural network to accurately predict the **distances** between all pairs of residues in a protein, providing richer information than just binary contact predictions.\n",
            "2.  **Differentiable Potential:** These predicted distance distributions are used to construct a smooth, differentiable \"potential of mean force\" that describes the protein's shape.\n",
            "3.  **Gradient Descent Optimization:** This potential is then minimized using a simple gradient descent algorithm (L-BFGS), eliminating the need for complex and time-consuming sampling procedures characteristic of previous methods. The system also predicts backbone torsion angles and can optimize entire protein chains without pre-segmentation into domains.\n",
            "\n",
            "AlphaFold's performance was rigorously tested in the **Critical Assessment of Protein Structure Prediction (CASP13)**, a blind assessment of the field. Key results include:\n",
            "*   AlphaFold achieved high-accuracy structures (TM-scores of 0.7 or higher) for **24 out of 43 free modeling (FM) domains**, significantly outperforming the next best method, which achieved this for only 14 domains.\n",
            "*   It demonstrated superior performance in contact prediction and was able to predict previously unknown folds with high accuracy.\n",
            "*   The accuracy of its distance predictions was a key factor in its overall success.\n",
            "\n",
            "The increased accuracy provided by AlphaFold is highly significant for biological research. It promises to enable deeper insights into protein function and malfunction, improve the understanding of protein-protein interactions and binding pockets, and assist in experimental techniques like molecular replacement in crystallography, especially for proteins lacking experimentally determined homologous structures.\n"
          ]
        }
      ]
    }
  ]
}